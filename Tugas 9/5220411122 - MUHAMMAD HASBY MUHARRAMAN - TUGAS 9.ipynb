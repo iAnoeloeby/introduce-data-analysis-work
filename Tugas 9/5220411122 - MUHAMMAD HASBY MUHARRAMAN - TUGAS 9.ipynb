{
 "cells": [
  {
   "cell_type": "markdown",
   "metadata": {},
   "source": [
    "5220411122\n",
    "MUHAMMAD HASBY MUHARRAMAN"
   ]
  },
  {
   "cell_type": "code",
   "execution_count": 1,
   "metadata": {},
   "outputs": [
    {
     "name": "stdout",
     "output_type": "stream",
     "text": [
      "Requirement already satisfied: pyspark in /usr/local/python/3.10.13/lib/python3.10/site-packages (3.5.0)\n",
      "Requirement already satisfied: py4j==0.10.9.7 in /usr/local/python/3.10.13/lib/python3.10/site-packages (from pyspark) (0.10.9.7)\n",
      "\n",
      "\u001b[1m[\u001b[0m\u001b[34;49mnotice\u001b[0m\u001b[1;39;49m]\u001b[0m\u001b[39;49m A new release of pip is available: \u001b[0m\u001b[31;49m23.3.1\u001b[0m\u001b[39;49m -> \u001b[0m\u001b[32;49m23.3.2\u001b[0m\n",
      "\u001b[1m[\u001b[0m\u001b[34;49mnotice\u001b[0m\u001b[1;39;49m]\u001b[0m\u001b[39;49m To update, run: \u001b[0m\u001b[32;49mpython -m pip install --upgrade pip\u001b[0m\n"
     ]
    }
   ],
   "source": [
    "!pip install pyspark\n",
    "#!pip install pyspark.SparkSession"
   ]
  },
  {
   "cell_type": "code",
   "execution_count": 2,
   "metadata": {},
   "outputs": [],
   "source": [
    "from pyspark.sql import SparkSession\n",
    "from pyspark.ml.regression import LinearRegression"
   ]
  },
  {
   "cell_type": "code",
   "execution_count": 3,
   "metadata": {},
   "outputs": [
    {
     "name": "stderr",
     "output_type": "stream",
     "text": [
      "24/01/12 15:40:39 WARN Utils: Your hostname, codespaces-f75b5f resolves to a loopback address: 127.0.0.1; using 172.16.5.4 instead (on interface eth0)\n",
      "24/01/12 15:40:39 WARN Utils: Set SPARK_LOCAL_IP if you need to bind to another address\n",
      "Setting default log level to \"WARN\".\n",
      "To adjust logging level use sc.setLogLevel(newLevel). For SparkR, use setLogLevel(newLevel).\n",
      "24/01/12 15:40:40 WARN NativeCodeLoader: Unable to load native-hadoop library for your platform... using builtin-java classes where applicable\n",
      "24/01/12 15:40:41 WARN Utils: Service 'SparkUI' could not bind on port 4040. Attempting port 4041.\n"
     ]
    }
   ],
   "source": [
    "spark = SparkSession.builder.appName('lr_example').getOrCreate()"
   ]
  },
  {
   "cell_type": "code",
   "execution_count": 4,
   "metadata": {},
   "outputs": [
    {
     "name": "stdout",
     "output_type": "stream",
     "text": [
      "+---------------+--------------------+-------+------+---+-------------+----------------+-----------+-------------------+\n",
      "|  Customer Name|     Customer e-mail|Country|Gender|Age|Annual Salary|Credit Card Debt|  Net Worth|Car Purchase Amount|\n",
      "+---------------+--------------------+-------+------+---+-------------+----------------+-----------+-------------------+\n",
      "|  Martina Avila|cubilia.Curae.Pha...|    USA|     0| 42|  62812.09301|     11609.38091|238961.2505|        35321.45877|\n",
      "|  Harlan Barnes| eu.dolor@diam.co.uk|    USA|     0| 41|  66646.89292|     9572.957136|530973.9078|        45115.52566|\n",
      "|Naomi Rodriquez|vulputate.mauris....|    USA|     1| 43|  53798.55112|     11160.35506|638467.1773|        42925.70921|\n",
      "|Jade Cunningham|malesuada@digniss...|    USA|     1| 58|  79370.03798|     14426.16485|548599.0524|        67422.36313|\n",
      "|   Cedric Leach|felis.ullamcorper...|    USA|     1| 57|   59729.1513|     5358.712177|560304.0671|        55915.46248|\n",
      "|   Carla Hester|  mi@Aliquamerat.edu|    USA|     1| 57|  68499.85162|     14179.47244|428485.3604|        56611.99784|\n",
      "| Griffin Rivera|   vehicula@at.co.uk|    USA|     1| 47|    39814.522|     5958.460188|326373.1812|        28925.70549|\n",
      "|     Orli Casey|nunc.est.mollis@S...|    USA|     1| 50|  51752.23445|     10985.69656|629312.4041|        47434.98265|\n",
      "|   Marny Obrien|Phasellus@sedseme...|    USA|     0| 47|   58139.2591|     3440.823799|630059.0274|         48013.6141|\n",
      "|  Rhonda Chavez|     nec@nuncest.com|    USA|     1| 43|  53457.10132|     12884.07868|476643.3544|        38189.50601|\n",
      "|    Jerome Rowe|ipsum.cursus@dui.org|    USA|     1| 50|  73348.70745|     8270.707359|612738.6171|        59045.51309|\n",
      "|   Akeem Gibson|turpis.egestas.Fu...|    USA|     1| 53|  55421.65733|     10014.96929|293862.5123|        42288.81046|\n",
      "|     Quin Smith|     nulla@ipsum.edu|    USA|     0| 44|   37336.3383|     10218.32092|430907.1673|         28700.0334|\n",
      "|     Tatum Moon|Cras.sed.leo@Sedd...|    USA|     0| 48|  68304.47298|     9466.995128|420322.0702|        49258.87571|\n",
      "|  Sharon Sharpe|eget.metus@aaliqu...|    USA|     0| 55|  72776.00382|     10597.63814|146344.8965|        49510.03356|\n",
      "|Thomas Williams|aliquet.molestie@...|    USA|     1| 53|  64662.30061|     11326.03434|481433.4324|        53017.26723|\n",
      "|  Blaine Bender|ultrices.posuere....|    USA|     0| 45|  63259.87837|     11495.54999|370356.2223|        41814.72067|\n",
      "|Stephen Lindsey|erat.eget.ipsum@t...|    USA|     1| 48|  52682.06401|     12514.52029|549443.5886|        43901.71244|\n",
      "|    Sloane Mann|  at.augue@augue.net|    USA|     1| 52|  54503.14423|     7377.820914|431098.9998|        44633.99241|\n",
      "|    Athena Wolf|volutpat.Nulla.fa...|    USA|     0| 59|  55368.23716|     13272.94647|566022.1306|        54827.52403|\n",
      "+---------------+--------------------+-------+------+---+-------------+----------------+-----------+-------------------+\n",
      "only showing top 20 rows\n",
      "\n"
     ]
    }
   ],
   "source": [
    "data = spark.read.csv('Car_Purchasing_Data.csv', header=True, inferSchema=True)\n",
    "data.show()"
   ]
  },
  {
   "cell_type": "code",
   "execution_count": 5,
   "metadata": {},
   "outputs": [
    {
     "name": "stdout",
     "output_type": "stream",
     "text": [
      "root\n",
      " |-- Customer Name: string (nullable = true)\n",
      " |-- Customer e-mail: string (nullable = true)\n",
      " |-- Country: string (nullable = true)\n",
      " |-- Gender: integer (nullable = true)\n",
      " |-- Age: integer (nullable = true)\n",
      " |-- Annual Salary: double (nullable = true)\n",
      " |-- Credit Card Debt: double (nullable = true)\n",
      " |-- Net Worth: double (nullable = true)\n",
      " |-- Car Purchase Amount: double (nullable = true)\n",
      "\n"
     ]
    }
   ],
   "source": [
    "data.printSchema()"
   ]
  },
  {
   "cell_type": "code",
   "execution_count": 6,
   "metadata": {},
   "outputs": [],
   "source": [
    "from pyspark.ml.linalg import Vector\n",
    "from pyspark.ml.feature import VectorAssembler"
   ]
  },
  {
   "cell_type": "code",
   "execution_count": 7,
   "metadata": {},
   "outputs": [
    {
     "data": {
      "text/plain": [
       "['Customer Name',\n",
       " 'Customer e-mail',\n",
       " 'Country',\n",
       " 'Gender',\n",
       " 'Age',\n",
       " 'Annual Salary',\n",
       " 'Credit Card Debt',\n",
       " 'Net Worth',\n",
       " 'Car Purchase Amount']"
      ]
     },
     "execution_count": 7,
     "metadata": {},
     "output_type": "execute_result"
    }
   ],
   "source": [
    "data.columns"
   ]
  },
  {
   "cell_type": "code",
   "execution_count": 8,
   "metadata": {},
   "outputs": [],
   "source": [
    "assembler = VectorAssembler(\n",
    "    inputCols = ['Annual Salary', 'Credit Card Debt', 'Net Worth', 'Car Purchase Amount'],\n",
    "    outputCol = 'features'\n",
    ")"
   ]
  },
  {
   "cell_type": "code",
   "execution_count": 9,
   "metadata": {},
   "outputs": [],
   "source": [
    "output = assembler.transform(data)"
   ]
  },
  {
   "cell_type": "code",
   "execution_count": 10,
   "metadata": {},
   "outputs": [
    {
     "name": "stdout",
     "output_type": "stream",
     "text": [
      "+--------------------+\n",
      "|            features|\n",
      "+--------------------+\n",
      "|[62812.09301,1160...|\n",
      "|[66646.89292,9572...|\n",
      "|[53798.55112,1116...|\n",
      "|[79370.03798,1442...|\n",
      "+--------------------+\n",
      "only showing top 4 rows\n",
      "\n"
     ]
    }
   ],
   "source": [
    "output.select(\"features\").show(4)"
   ]
  },
  {
   "cell_type": "code",
   "execution_count": 11,
   "metadata": {},
   "outputs": [
    {
     "name": "stdout",
     "output_type": "stream",
     "text": [
      "+-------------+--------------------+-------+------+---+-------------+----------------+-----------+-------------------+--------------------+\n",
      "|Customer Name|     Customer e-mail|Country|Gender|Age|Annual Salary|Credit Card Debt|  Net Worth|Car Purchase Amount|            features|\n",
      "+-------------+--------------------+-------+------+---+-------------+----------------+-----------+-------------------+--------------------+\n",
      "|Martina Avila|cubilia.Curae.Pha...|    USA|     0| 42|  62812.09301|     11609.38091|238961.2505|        35321.45877|[62812.09301,1160...|\n",
      "+-------------+--------------------+-------+------+---+-------------+----------------+-----------+-------------------+--------------------+\n",
      "only showing top 1 row\n",
      "\n"
     ]
    }
   ],
   "source": [
    "output.show(1)"
   ]
  },
  {
   "cell_type": "code",
   "execution_count": 12,
   "metadata": {},
   "outputs": [
    {
     "name": "stdout",
     "output_type": "stream",
     "text": [
      "root\n",
      " |-- features: vector (nullable = true)\n",
      " |-- Annual Salary: double (nullable = true)\n",
      "\n"
     ]
    }
   ],
   "source": [
    "final_data = output.select('features', 'Annual Salary')\n",
    "final_data.printSchema()"
   ]
  },
  {
   "cell_type": "code",
   "execution_count": 13,
   "metadata": {},
   "outputs": [
    {
     "name": "stdout",
     "output_type": "stream",
     "text": [
      "+--------------------+-------------+\n",
      "|            features|Annual Salary|\n",
      "+--------------------+-------------+\n",
      "|[62812.09301,1160...|  62812.09301|\n",
      "|[66646.89292,9572...|  66646.89292|\n",
      "|[53798.55112,1116...|  53798.55112|\n",
      "+--------------------+-------------+\n",
      "only showing top 3 rows\n",
      "\n"
     ]
    }
   ],
   "source": [
    "final_data.show(3)"
   ]
  },
  {
   "cell_type": "code",
   "execution_count": 14,
   "metadata": {},
   "outputs": [],
   "source": [
    "train_data, test_data = final_data.randomSplit([0.7, 0.3])"
   ]
  },
  {
   "cell_type": "code",
   "execution_count": 15,
   "metadata": {},
   "outputs": [],
   "source": [
    "lr = LinearRegression(labelCol='Annual Salary')"
   ]
  },
  {
   "cell_type": "code",
   "execution_count": 16,
   "metadata": {},
   "outputs": [
    {
     "name": "stderr",
     "output_type": "stream",
     "text": [
      "24/01/12 15:40:50 WARN Instrumentation: [91587b19] regParam is zero, which might cause numerical instability and overfitting.\n",
      "24/01/12 15:40:50 WARN InstanceBuilder: Failed to load implementation from:dev.ludovic.netlib.blas.JNIBLAS\n",
      "24/01/12 15:40:50 WARN InstanceBuilder: Failed to load implementation from:dev.ludovic.netlib.blas.VectorBLAS\n",
      "24/01/12 15:40:50 WARN InstanceBuilder: Failed to load implementation from:dev.ludovic.netlib.lapack.JNILAPACK\n"
     ]
    }
   ],
   "source": [
    "lr_model = lr.fit(train_data)"
   ]
  },
  {
   "cell_type": "code",
   "execution_count": 17,
   "metadata": {},
   "outputs": [
    {
     "name": "stdout",
     "output_type": "stream",
     "text": [
      "koefisien : [0.9999999999999972,1.0365009846133808e-14,-3.621914321152136e-16,4.749644104033246e-15]\n",
      "intercept : 3.044111479099381e-11 \n"
     ]
    }
   ],
   "source": [
    "print('koefisien : {}\\nintercept : {} '.format(lr_model.coefficients, lr_model.intercept))"
   ]
  },
  {
   "cell_type": "code",
   "execution_count": 18,
   "metadata": {},
   "outputs": [],
   "source": [
    "test_result = lr_model.evaluate(test_data)"
   ]
  },
  {
   "cell_type": "code",
   "execution_count": 19,
   "metadata": {},
   "outputs": [
    {
     "name": "stdout",
     "output_type": "stream",
     "text": [
      "+--------------------+\n",
      "|           residuals|\n",
      "+--------------------+\n",
      "|                 0.0|\n",
      "|-3.63797880709171...|\n",
      "|2.182787284255027...|\n",
      "|-2.18278728425502...|\n",
      "|-8.00355337560176...|\n",
      "|-2.91038304567337...|\n",
      "|3.637978807091713...|\n",
      "|-4.36557456851005...|\n",
      "|3.637978807091713...|\n",
      "|3.637978807091713...|\n",
      "|-1.45519152283668...|\n",
      "|1.455191522836685...|\n",
      "|3.637978807091713...|\n",
      "|7.275957614183426...|\n",
      "|9.458744898438454...|\n",
      "|5.820766091346741...|\n",
      "|-2.91038304567337...|\n",
      "|-7.27595761418342...|\n",
      "|-1.45519152283668...|\n",
      "|-3.63797880709171...|\n",
      "+--------------------+\n",
      "only showing top 20 rows\n",
      "\n"
     ]
    }
   ],
   "source": [
    "test_result.residuals.show()"
   ]
  },
  {
   "cell_type": "code",
   "execution_count": 20,
   "metadata": {},
   "outputs": [
    {
     "name": "stdout",
     "output_type": "stream",
     "text": [
      "RMSE : 6.194314091194576e-11\n"
     ]
    }
   ],
   "source": [
    "# RMSE (Root, Mean, Square, Error)\n",
    "print('RMSE : {}'.format(test_result.rootMeanSquaredError))"
   ]
  },
  {
   "cell_type": "code",
   "execution_count": 21,
   "metadata": {},
   "outputs": [
    {
     "name": "stdout",
     "output_type": "stream",
     "text": [
      "MSE : 3.8369527060371685e-21\n"
     ]
    }
   ],
   "source": [
    "# MSE (Root, Mean, Square, Error)\n",
    "print('MSE : {}'.format(test_result.meanSquaredError))"
   ]
  },
  {
   "cell_type": "markdown",
   "metadata": {},
   "source": [
    "unlable data"
   ]
  },
  {
   "cell_type": "code",
   "execution_count": 22,
   "metadata": {},
   "outputs": [],
   "source": [
    "unlable_data = test_data.select('features')"
   ]
  },
  {
   "cell_type": "code",
   "execution_count": 23,
   "metadata": {},
   "outputs": [
    {
     "name": "stdout",
     "output_type": "stream",
     "text": [
      "+--------------------+------------------+\n",
      "|            features|        prediction|\n",
      "+--------------------+------------------+\n",
      "|[33422.99683,8570...|       33422.99683|\n",
      "|[34154.77654,5316...|34154.776540000035|\n",
      "|[35069.41886,1851...|35069.418859999976|\n",
      "|[37336.3383,10218...|37336.338300000025|\n",
      "|[38453.86033,1528...| 38453.86033000008|\n",
      "|[39460.00348,8769...| 39460.00348000003|\n",
      "|[40558.75456,4981...|40558.754559999965|\n",
      "|[41236.36497,9399...|41236.364970000046|\n",
      "|[41587.39238,5397...| 41587.39237999996|\n",
      "|[42415.48867,5205...| 42415.48866999996|\n",
      "|[42433.54619,7335...|42433.546190000015|\n",
      "|[42978.34284,8884...| 42978.34283999998|\n",
      "|[43131.78411,1091...|43131.784109999964|\n",
      "|[43412.86301,7843...|43412.863009999994|\n",
      "|[44747.66132,4975...|44747.661319999905|\n",
      "|[46549.16329,640....| 46549.16328999994|\n",
      "|[47228.35999,9046...|47228.359990000026|\n",
      "|[47460.54809,7405...|47460.548090000004|\n",
      "|[48716.67271,1088...| 48716.67271000001|\n",
      "|[49393.46784,1152...|49393.467840000034|\n",
      "+--------------------+------------------+\n",
      "only showing top 20 rows\n",
      "\n"
     ]
    }
   ],
   "source": [
    "prediction = lr_model.transform(unlable_data)\n",
    "prediction.show()"
   ]
  },
  {
   "cell_type": "code",
   "execution_count": 24,
   "metadata": {},
   "outputs": [
    {
     "name": "stdout",
     "output_type": "stream",
     "text": [
      "MSE : 3.8369527060371685e-21 \n",
      "RMSE : 6.194314091194576e-11 \n"
     ]
    },
    {
     "name": "stderr",
     "output_type": "stream",
     "text": [
      "24/01/12 15:40:55 WARN GarbageCollectionMetrics: To enable non-built-in garbage collector(s) List(G1 Concurrent GC), users should configure it(them) to spark.eventLog.gcMetrics.youngGenerationGarbageCollectors or spark.eventLog.gcMetrics.oldGenerationGarbageCollectors\n"
     ]
    }
   ],
   "source": [
    "# MSE\n",
    "print('MSE : {} '.format(test_result.meanSquaredError))\n",
    "\n",
    "# RMSE\n",
    "print('RMSE : {} '.format(test_result.rootMeanSquaredError))"
   ]
  },
  {
   "cell_type": "code",
   "execution_count": 26,
   "metadata": {},
   "outputs": [
    {
     "name": "stdout",
     "output_type": "stream",
     "text": [
      "Selesai !\n",
      "Terima kasih untuk semua tugasnya dalam semester 3 ini pak.....\n",
      "\n"
     ]
    }
   ],
   "source": [
    "print('Selesai !')\n",
    "print('Terima kasih untuk semua tugasnya dalam semester 3 ini pak.....\\n')"
   ]
  }
 ],
 "metadata": {
  "kernelspec": {
   "display_name": "Python 3",
   "language": "python",
   "name": "python3"
  },
  "language_info": {
   "codemirror_mode": {
    "name": "ipython",
    "version": 3
   },
   "file_extension": ".py",
   "mimetype": "text/x-python",
   "name": "python",
   "nbconvert_exporter": "python",
   "pygments_lexer": "ipython3",
   "version": "3.10.13"
  }
 },
 "nbformat": 4,
 "nbformat_minor": 2
}
